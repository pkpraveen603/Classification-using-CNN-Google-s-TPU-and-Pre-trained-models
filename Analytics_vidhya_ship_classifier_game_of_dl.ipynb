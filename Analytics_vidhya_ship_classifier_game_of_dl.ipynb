{
 "cells": [
  {
   "cell_type": "markdown",
   "metadata": {},
   "source": [
    "# Mounting google drive"
   ]
  },
  {
   "cell_type": "code",
   "execution_count": 1,
   "metadata": {
    "colab": {
     "base_uri": "https://localhost:8080/",
     "height": 122
    },
    "colab_type": "code",
    "id": "xhbYti5XDG7U",
    "outputId": "752895c8-aa21-4da9-ede8-c2f0e5ed8ad0"
   },
   "outputs": [
    {
     "name": "stdout",
     "output_type": "stream",
     "text": [
      "Go to this URL in a browser: https://accounts.google.com/o/oauth2/auth?client_id=947318989803-6bn6qk8qdgf4n4g3pfee6491hc0brc4i.apps.googleusercontent.com&redirect_uri=urn%3Aietf%3Awg%3Aoauth%3A2.0%3Aoob&scope=email%20https%3A%2F%2Fwww.googleapis.com%2Fauth%2Fdocs.test%20https%3A%2F%2Fwww.googleapis.com%2Fauth%2Fdrive%20https%3A%2F%2Fwww.googleapis.com%2Fauth%2Fdrive.photos.readonly%20https%3A%2F%2Fwww.googleapis.com%2Fauth%2Fpeopleapi.readonly&response_type=code\n",
      "\n",
      "Enter your authorization code:\n",
      "··········\n",
      "Mounted at /content/drive\n"
     ]
    }
   ],
   "source": [
    "# Load the Drive helper and mount\n",
    "from google.colab import drive\n",
    "\n",
    "# This will prompt for authorization.\n",
    "drive.mount('/content/drive')"
   ]
  },
  {
   "cell_type": "code",
   "execution_count": 2,
   "metadata": {
    "colab": {
     "base_uri": "https://localhost:8080/",
     "height": 3672
    },
    "colab_type": "code",
    "collapsed": true,
    "id": "Mfz8OnivDbJV",
    "outputId": "fdd28f78-5c82-403c-8e36-46183025f1d1"
   },
   "outputs": [
    {
     "name": "stdout",
     "output_type": "stream",
     "text": [
      "'1 - Pre Midsem.pdf'\n",
      " 1-s2.0-S0016706116306747-main.pdf\n",
      " 25_data.csv\n",
      " 25_data.csv.gsheet\n",
      " 25_sample_images\n",
      "'2 - Post Midsem.pdf'\n",
      " 500_questions.gsheet\n",
      "'Additional problems.pdf'\n",
      "'Admit card  '\n",
      "'AKD [thedrunkard1234].zip (Unzipped Files)'\n",
      " amex_ps\n",
      " AT053-VW6.pdf\n",
      " Averaged_Images\n",
      " BasicMeds\n",
      "'Blockchain course udemy'\n",
      " cancer_prob.ipynb\n",
      " CateMaker.ipynb\n",
      "'C Borgnakke_ Richard Edwin Sonntag_ Gordon J Van Wylen-Fundamentals of thermodynamics-Wiley (2009) (1).pdf'\n",
      "'C Borgnakke_ Richard Edwin Sonntag_ Gordon J Van Wylen-Fundamentals of thermodynamics-Wiley (2009).pdf'\n",
      "'Cell Division Cell Cycle  Apostosis- 2017.ppt'\n",
      " Classroom\n",
      " Classroom_problems1.pdf\n",
      " Classroom_problems2.pdf\n",
      "'Class Test_2018 (1).gsheet'\n",
      "'Class Test_2018.gsheet'\n",
      "'Class Test_2018.xlsx'\n",
      "'Colab Notebooks'\n",
      " CroppedImages\n",
      " CroppedImages_25_samples\n",
      " Data.csv\n",
      " dataset.csv\n",
      " Description.csv\n",
      " Description.txt\n",
      " description.zip\n",
      "'description.zip (Unzipped Files)'\n",
      "'description.zip (Unzipped Files) (1)'\n",
      " Documentation-soln.gdoc\n",
      " edited_getPDFPerformanceCard.pdf\n",
      "'EXPERIMENT 1:.gdoc'\n",
      "'EXPERIMENT 2 :.gdoc'\n",
      " faqs_finder.gdoc\n",
      " faqs_finder.html\n",
      " faqs_finder.pdf\n",
      " faqs_finder.py\n",
      " final_test_1.csv\n",
      " final_test.csv\n",
      " final_train.csv\n",
      " final_with_fft.csv\n",
      " final_with_fft.gsheet\n",
      " FirstAid\n",
      " flipkart\n",
      "'flipkart r3'\n",
      "'Game of DL'\n",
      " gender_submission.csv\n",
      " gramophone\n",
      "'guhaNotes (1).pdf'\n",
      " guhaNotes.pdf\n",
      " Health_care.docx\n",
      " Healthcare.docx\n",
      " Health_care.docx.gdoc\n",
      " Healthcare.docx.gdoc\n",
      " Health_care.gdoc\n",
      " Home_credit_default_risk\n",
      " hotel_scores.ipynb\n",
      " image_processing_soc.gslides\n",
      "'INAE Team200'\n",
      "'indian eco.pdf'\n",
      " Innovaccer_praveen.gslides\n",
      " Innovaccer_praveen.pptx\n",
      " kshitij-da-nlp-deepmodels-1.ipynb\n",
      "'ktj -data challenge'\n",
      "'Lab report.mp3'\n",
      " lect_1.pptx\n",
      " lect_2.pptx\n",
      "'Lecture_Genetic Engineering.pptx'\n",
      "'Lecture_Host Defense_Oct17.pptx'\n",
      "'LectureNotes6_Ultrastructure of Cells_Oct,2017.docx'\n",
      " macroeconomics.pdf\n",
      " mathsPDElectNotes.pdf\n",
      " micro.pdf\n",
      " modified_54.csv\n",
      "'My_CV (1).pdf'\n",
      " My_CV.pdf\n",
      " my_tools.py\n",
      " my_tools.py.gdoc\n",
      "'Neural-nets (1).ipynb'\n",
      "'Neural-nets (2).ipynb'\n",
      "'Neural-nets (3).ipynb'\n",
      " Neural-nets.ipynb\n",
      " Online_Retail.zip\n",
      "'Online_Retail.zip (Unzipped Files)'\n",
      " openiit\n",
      " pandas.txt\n",
      "'PCA_test (1).csv'\n",
      " PCA_test.csv\n",
      " PCA_test.csv.gsheet\n",
      " PCA_train.csv\n",
      "'Photosynthesis and respiration.pptx'\n",
      "'plots.zip (Unzipped Files)'\n",
      "'Postmodern Feminism.pptx'\n",
      " prakriti_final_code.ipynb\n",
      "'PRAVEEN KUMAR_cv.gdoc'\n",
      "'PRAVEEN KUMAR_cv.pdf'\n",
      "'PRAVEEN KUMAR.docx'\n",
      "'PRAVEEN KUMAR_resume.pdf'\n",
      "'Probability and Statistics in Engineering By William W. Hines, Douglas C. Montgomery, David M. Goldsman, Connie M. Borror.pdf'\n",
      "'Problem set _BS20001_Photosynthesis.docx'\n",
      "'Problem set_BS20001_Ultrastructure of Cells.docx'\n",
      " Project_openCV.ipynb\n",
      " questions.csv\n",
      "'Report Agricultural Machinery.gdoc'\n",
      "'report team_phoenix.gdoc'\n",
      " SampleImages\n",
      " Script.gdoc\n",
      "\"Share 'D-513 to D-524.xlsx'.xlsx\"\n",
      " Shubham.pdf\n",
      "'Slytherin_IITKharagpur (1).gsheet'\n",
      "'Slytherin_IITKharagpur__ (1).gsheet'\n",
      " Slytherin_IITKharagpur_38.csv\n",
      " Slytherin_IITKharagpur_39.csv\n",
      " Slytherin_IITKharagpur_40.csv\n",
      " Slytherin_IITKharagpur_41.csv\n",
      " Slytherin_IITKharagpur_42.csv\n",
      " Slytherin_IITKharagpur_45.csv\n",
      " Slytherin_IITKharagpur_46.csv\n",
      " Slytherin_IITKharagpur_47.csv\n",
      " Slytherin_IITKharagpur_48.csv\n",
      " Slytherin_IITKharagpur_49.csv\n",
      " Slytherin_IITKharagpur_53.csv\n",
      " Slytherin_IITKharagpur_55.csv\n",
      " Slytherin_IITKharagpur_56.csv\n",
      " Slytherin_IITKharagpur_57.csv\n",
      " Slytherin_IITKharagpur_58.csv\n",
      " Slytherin_IITKharagpur_59.csv\n",
      " Slytherin_IITKharagpur_5.csv\n",
      " Slytherin_IITKharagpur_60.csv\n",
      " Slytherin_IITKharagpur_62.csv\n",
      " Slytherin_IITKharagpur_63.csv\n",
      " Slytherin_IITKharagpur_64.csv\n",
      " Slytherin_IITKharagpur_65.csv\n",
      " Slytherin_IITKharagpur_66.csv\n",
      " Slytherin_IITKharagpur_67.csv\n",
      " Slytherin_IITKharagpur_68.csv\n",
      " Slytherin_IITKharagpur_69.csv\n",
      " Slytherin_IITKharagpur_70.csv\n",
      " Slytherin_IITKharagpur_71.csv\n",
      " Slytherin_IITKharagpur_72.csv\n",
      " Slytherin_IITKharagpur_73.csv\n",
      " Slytherin_IITKharagpur_74.csv\n",
      " Slytherin_IITKharagpur_75.csv\n",
      " Slytherin_IITKharagpur_76.csv\n",
      " Slytherin_IITKharagpur_77.csv\n",
      " Slytherin_IITKharagpur_78.csv\n",
      " Slytherin_IITKharagpur_80.csv\n",
      " Slytherin_IITKharagpur_82.csv\n",
      " Slytherin_IITKharagpur_83.csv\n",
      " Slytherin_IITKharagpur_84.csv\n",
      " Slytherin_IITKharagpur_85.csv\n",
      " Slytherin_IITKharagpur_86.csv\n",
      " Slytherin_IITKharagpur_87.csv\n",
      " Slytherin_IITKharagpur_88.csv\n",
      " Slytherin_IITKharagpur_91.csv\n",
      " Slytherin_IITKharagpur_96.csv\n",
      "'Slytherin_IITKharagpur .csv'\n",
      " Slytherin_IITKharagpur__.csv\n",
      " Slytherin_IITKharagpur.csv\n",
      " Slytherin_IITKharagpur__.gsheet\n",
      " Slytherin_IITKharagpur.gsheet\n",
      " soil.ipynb\n",
      "'Soil Physics Lab.gdoc'\n",
      "'SOIL TECH. Lab Manual.gdoc'\n",
      "'submissionSample - Copy.csv'\n",
      "'submissionSample - Copy.gsheet'\n",
      " SVM.ipynb\n",
      " Task_2_matplotlib-Copy1.ipynb\n",
      " task3-Copy2.ipynb\n",
      " test.csv\n",
      " testset.csv\n",
      "'theano_test (1).ipynb'\n",
      " theano_test.ipynb\n",
      " THERMODYNAMICS_Energy_Heat_Work.pdf\n",
      "'THERMODYNAMICS_Entropy_closed system.pdf'\n",
      " THERMODYNAMICS_Entropy.pdf\n",
      " THERMODYNAMICS_First_Law.pdf\n",
      " THERMODYNAMICS_Intro.pdf\n",
      " THERMODYNAMICS_Pure_Substance.pdf\n",
      " THERMODYNAMICS_Second_Law.pdf\n",
      " thermo_sols.rar\n",
      " Titanic\n",
      " titanic_test_set.csv\n",
      " titanic_train1.csv\n",
      " titanic_train1.csv.gsheet\n",
      " titanic_train_set.csv\n",
      " topic_dataset.gsheet\n",
      " train.csv\n",
      " Train_input-titanic.csv\n",
      " Train_output-titanic.csv\n",
      "'Transport Processes and Unit Operations, Third Edition.pdf'\n",
      " Tutorial_1.pdf\n",
      " Tutorial_2.pdf\n",
      " Tutorial_3.pdf\n",
      " Tutorial_4.pdf\n",
      " Tutorial_5.pdf\n",
      "'Ultrastructure of Cells.ppt'\n",
      "'Untitled document.gdoc'\n",
      " Untitled.ipynb\n",
      "'Untitled presentation (1).gslides'\n",
      "'Untitled presentation.gslides'\n",
      "'Untitled spreadsheet (1).gsheet'\n",
      "'Untitled spreadsheet (2).gsheet'\n",
      "'Untitled spreadsheet.gsheet'\n",
      " updated_cv.gdoc\n",
      " updated_cv.pdf\n",
      " vertical_farming.gslides\n",
      " yolov3.ipynb\n"
     ]
    }
   ],
   "source": [
    "# After executing the cell above, Drive\n",
    "# files will be present in \"/content/drive/My Drive\".\n",
    "!ls \"/content/drive/My Drive\""
   ]
  },
  {
   "cell_type": "code",
   "execution_count": 0,
   "metadata": {
    "colab": {},
    "colab_type": "code",
    "id": "1Z7LUpptDsb9"
   },
   "outputs": [],
   "source": [
    "\n"
   ]
  },
  {
   "cell_type": "code",
   "execution_count": 3,
   "metadata": {
    "colab": {
     "base_uri": "https://localhost:8080/",
     "height": 34
    },
    "colab_type": "code",
    "id": "FYPnezYeDsec",
    "outputId": "9c2daee0-6dd2-495b-cb83-e50e0f990dfe"
   },
   "outputs": [
    {
     "name": "stderr",
     "output_type": "stream",
     "text": [
      "Using TensorFlow backend.\n"
     ]
    }
   ],
   "source": [
    "\n",
    "# This cell contains all the references to libraries that are needed to train a convolutional neural network\n",
    "from __future__ import print_function, division\n",
    "\n",
    "import numpy as np\n",
    "import random\n",
    "import os\n",
    "import glob\n",
    "# https://opencv.org/\n",
    "#!apt-get -qq install -y libsm6 libxext6 && pip install -q -U opencv-python\n",
    "import cv2\n",
    "import datetime\n",
    "import pandas as pd\n",
    "import time\n",
    "import h5py\n",
    "import csv\n",
    "from sklearn.metrics import log_loss, confusion_matrix\n",
    "from sklearn.utils import shuffle\n",
    "\n",
    "from PIL import Image, ImageChops, ImageOps\n",
    "\n",
    "import matplotlib.pyplot as plt\n",
    "\n",
    "from keras import backend as K\n",
    "from keras.callbacks import EarlyStopping, Callback\n",
    "from keras.utils import np_utils\n",
    "from keras.preprocessing.image import ImageDataGenerator, load_img, img_to_array\n",
    "from keras import optimizers\n",
    "from keras.models import Sequential, model_from_json\n",
    "from keras.layers import Convolution2D, MaxPooling2D, ZeroPadding2D, Activation, Dropout, Flatten, Dense\n",
    "import tensorflow as tf\n",
    "# Importing the Keras libraries and packages\n",
    "from keras.models import Sequential\n",
    "from keras.layers import Conv2D\n",
    "from keras.layers import MaxPooling2D\n",
    "from keras.layers import Flatten\n",
    "from keras.layers import Dense\n",
    "import keras\n",
    "import matplotlib.pyplot as plt\n",
    "from keras.layers import Dense,GlobalAveragePooling2D\n",
    "from keras.applications import MobileNet\n",
    "from keras.preprocessing import image\n",
    "from keras.preprocessing.image import ImageDataGenerator\n",
    "from keras.models import Model\n",
    "from keras.optimizers import Adam\n",
    "from tensorflow.train import RMSPropOptimizer\n",
    "import cv2\n",
    "from tqdm import tqdm"
   ]
  },
  {
   "cell_type": "code",
   "execution_count": 0,
   "metadata": {
    "colab": {},
    "colab_type": "code",
    "id": "eJkmygwPRKoC"
   },
   "outputs": [],
   "source": [
    "from tensorflow.keras.applications.resnet50 import preprocess_input"
   ]
  },
  {
   "cell_type": "code",
   "execution_count": 0,
   "metadata": {
    "colab": {},
    "colab_type": "code",
    "id": "1A9A_1ntZF4_"
   },
   "outputs": [],
   "source": [
    "#from tensorflow.keras.applications.inception_resnet_v2 import preprocess_input"
   ]
  },
  {
   "cell_type": "code",
   "execution_count": 0,
   "metadata": {
    "colab": {},
    "colab_type": "code",
    "id": "kKKD6Ea5ES93"
   },
   "outputs": [],
   "source": []
  },
  {
   "cell_type": "markdown",
   "metadata": {
    "colab": {},
    "colab_type": "code",
    "id": "ZfnaQRKpDsjD"
   },
   "source": [
    "# Reading and pre-processing the input images"
   ]
  },
  {
   "cell_type": "code",
   "execution_count": 0,
   "metadata": {
    "colab": {},
    "colab_type": "code",
    "id": "J984ipO7NxKl"
   },
   "outputs": [],
   "source": []
  },
  {
   "cell_type": "code",
   "execution_count": 0,
   "metadata": {
    "colab": {},
    "colab_type": "code",
    "id": "x3pLe9oSM_lK"
   },
   "outputs": [],
   "source": [
    "train = pd.read_csv('/content/drive/My Drive/Game of DL/train.csv')\n",
    "test = pd.read_csv('/content/drive/My Drive/Game of DL/test.csv')"
   ]
  },
  {
   "cell_type": "code",
   "execution_count": 0,
   "metadata": {
    "colab": {
     "base_uri": "https://localhost:8080/",
     "height": 269
    },
    "colab_type": "code",
    "id": "GGKOT94OB5T-",
    "outputId": "68cbd56e-3d33-4536-b0d3-ec006615ada4"
   },
   "outputs": [
    {
     "data": {
      "image/png": "[encoded data removed]",
      "text/plain": [
       "<Figure size 432x288 with 1 Axes>"
      ]
     },
     "metadata": {
      "tags": []
     },
     "output_type": "display_data"
    }
   ],
   "source": [
    "plt.hist(train['category'])\n",
    "plt.show()"
   ]
  },
  {
   "cell_type": "code",
   "execution_count": 0,
   "metadata": {
    "colab": {
     "base_uri": "https://localhost:8080/",
     "height": 34
    },
    "colab_type": "code",
    "id": "eDQWch9UM_xH",
    "outputId": "a35f85a9-4901-466b-a6ce-363e986499f3"
   },
   "outputs": [
    {
     "data": {
      "text/plain": [
       "array([1, 2, 3, 4, 5])"
      ]
     },
     "execution_count": 7,
     "metadata": {
      "tags": []
     },
     "output_type": "execute_result"
    }
   ],
   "source": [
    "train['category'].unique()"
   ]
  },
  {
   "cell_type": "code",
   "execution_count": 0,
   "metadata": {
    "colab": {
     "base_uri": "https://localhost:8080/",
     "height": 102
    },
    "colab_type": "code",
    "id": "6ajlFHLVC2CN",
    "outputId": "ae1f9526-c9a9-42a3-b3fa-9a6ae6cd00b2"
   },
   "outputs": [
    {
     "name": "stdout",
     "output_type": "stream",
     "text": [
      "1 : 2120\n",
      "2 : 1167\n",
      "3 : 916\n",
      "4 : 832\n",
      "5 : 1217\n"
     ]
    }
   ],
   "source": [
    "for i in [1,2,3,4,5]:\n",
    "  print(str(i) +' : '+ str(len(train[train['category']==i])))"
   ]
  },
  {
   "cell_type": "code",
   "execution_count": 0,
   "metadata": {
    "colab": {},
    "colab_type": "code",
    "id": "HKuaD92-hUzw"
   },
   "outputs": [],
   "source": [
    "train['category'] = train['category'].apply(lambda x:str(x))"
   ]
  },
  {
   "cell_type": "code",
   "execution_count": 0,
   "metadata": {
    "colab": {
     "base_uri": "https://localhost:8080/",
     "height": 34
    },
    "colab_type": "code",
    "id": "nj56BTAiiLtu",
    "outputId": "2a8475cc-24bb-4730-b3e8-23fbf49a035f"
   },
   "outputs": [
    {
     "data": {
      "text/plain": [
       "6252"
      ]
     },
     "execution_count": 55,
     "metadata": {
      "tags": []
     },
     "output_type": "execute_result"
    }
   ],
   "source": [
    "len(os.listdir('/content/drive/My Drive/Game of DL/train/'))"
   ]
  },
  {
   "cell_type": "code",
   "execution_count": 0,
   "metadata": {
    "colab": {
     "base_uri": "https://localhost:8080/",
     "height": 34
    },
    "colab_type": "code",
    "id": "-p2ZVCUZNxTO",
    "outputId": "17bb9eb4-95f8-4157-fb53-80d7d877f562"
   },
   "outputs": [
    {
     "name": "stderr",
     "output_type": "stream",
     "text": [
      "100%|██████████| 6252/6252 [00:32<00:00, 194.88it/s]\n"
     ]
    }
   ],
   "source": [
    "height = []\n",
    "width = []\n",
    "for image in tqdm(os.listdir('/content/drive/My Drive/Game of DL/train/')):\n",
    "  img_path = '/content/drive/My Drive/Game of DL/train/'+image\n",
    "  img = cv2.imread(img_path)\n",
    "  height.append(img.shape[0])\n",
    "  width.append(img.shape[1])"
   ]
  },
  {
   "cell_type": "code",
   "execution_count": 0,
   "metadata": {
    "colab": {
     "base_uri": "https://localhost:8080/",
     "height": 34
    },
    "colab_type": "code",
    "id": "aME8lqXXNxU_",
    "outputId": "2d60f6ff-fc1b-41eb-d44d-c5322b25a18d"
   },
   "outputs": [
    {
     "name": "stdout",
     "output_type": "stream",
     "text": [
      "41 91 158 210\n"
     ]
    }
   ],
   "source": [
    "print(min(height) , min(width) , max(height) , max(width))"
   ]
  },
  {
   "cell_type": "code",
   "execution_count": 0,
   "metadata": {
    "colab": {},
    "colab_type": "code",
    "id": "guJiG-rSBe4M"
   },
   "outputs": [],
   "source": [
    "image_path = '/content/drive/My Drive/Game of DL/test/'"
   ]
  },
  {
   "cell_type": "code",
   "execution_count": 0,
   "metadata": {
    "colab": {},
    "colab_type": "code",
    "id": "rHUMjZU4BfAc"
   },
   "outputs": [],
   "source": [
    "image = image_path + os.listdir('/content/drive/My Drive/Game of DL/test/')[0]"
   ]
  },
  {
   "cell_type": "code",
   "execution_count": 0,
   "metadata": {
    "colab": {},
    "colab_type": "code",
    "id": "vVNwzqj5BuVm"
   },
   "outputs": [],
   "source": [
    "image = Image.open(image)"
   ]
  },
  {
   "cell_type": "code",
   "execution_count": 0,
   "metadata": {
    "colab": {
     "base_uri": "https://localhost:8080/",
     "height": 34
    },
    "colab_type": "code",
    "id": "X42Yg7LRCMfg",
    "outputId": "e52800cb-1fd5-43cd-c1cd-d7a3fcefa81e"
   },
   "outputs": [
    {
     "data": {
      "text/plain": [
       "210"
      ]
     },
     "execution_count": 79,
     "metadata": {
      "tags": []
     },
     "output_type": "execute_result"
    }
   ],
   "source": [
    "image.width"
   ]
  },
  {
   "cell_type": "code",
   "execution_count": 0,
   "metadata": {
    "colab": {
     "base_uri": "https://localhost:8080/",
     "height": 34
    },
    "colab_type": "code",
    "id": "rYJtcZGxuVYZ",
    "outputId": "a08adb09-50b5-427a-930a-f1d9708033a8"
   },
   "outputs": [
    {
     "name": "stderr",
     "output_type": "stream",
     "text": [
      "100%|██████████| 2680/2680 [12:12<00:00,  3.98it/s]\n"
     ]
    }
   ],
   "source": [
    "height = []\n",
    "width = []\n",
    "for image in tqdm(os.listdir('/content/drive/My Drive/Game of DL/test/')):\n",
    "  img_path = '/content/drive/My Drive/Game of DL/test/'+image\n",
    "  img = cv2.imread(img_path)\n",
    "  height.append(img.shape[0])\n",
    "  width.append(img.shape[1])"
   ]
  },
  {
   "cell_type": "code",
   "execution_count": 0,
   "metadata": {
    "colab": {
     "base_uri": "https://localhost:8080/",
     "height": 34
    },
    "colab_type": "code",
    "id": "GrAKSEJnuVWG",
    "outputId": "efe1d926-41a7-41ea-9adf-072e072d62e8"
   },
   "outputs": [
    {
     "name": "stdout",
     "output_type": "stream",
     "text": [
      "42 97 158 210\n"
     ]
    }
   ],
   "source": [
    "print(min(height) , min(width) , max(height) , max(width))"
   ]
  },
  {
   "cell_type": "code",
   "execution_count": 0,
   "metadata": {
    "colab": {
     "base_uri": "https://localhost:8080/",
     "height": 136
    },
    "colab_type": "code",
    "id": "RTlv0gIVVTr4",
    "outputId": "1ba828ca-2a16-4985-dc86-856ef1e66e07"
   },
   "outputs": [
    {
     "data": {
      "text/plain": [
       "array([ 42,  57,  58,  66,  70,  71,  72,  73,  74,  75,  78,  79,  81,\n",
       "        82,  83,  84,  85,  86,  87,  88,  89,  90,  91,  92,  93,  94,\n",
       "        95,  96,  97,  98,  99, 100, 101, 102, 103, 104, 105, 106, 107,\n",
       "       108, 109, 110, 111, 112, 113, 114, 115, 116, 117, 118, 119, 120,\n",
       "       121, 122, 123, 124, 125, 126, 127, 128, 129, 130, 131, 132, 133,\n",
       "       134, 135, 136, 137, 138, 139, 140, 141, 142, 143, 144, 145, 146,\n",
       "       147, 148, 149, 150, 151, 152, 153, 154, 155, 156, 157, 158])"
      ]
     },
     "execution_count": 65,
     "metadata": {
      "tags": []
     },
     "output_type": "execute_result"
    }
   ],
   "source": [
    "np.unique(height)"
   ]
  },
  {
   "cell_type": "code",
   "execution_count": 0,
   "metadata": {
    "colab": {
     "base_uri": "https://localhost:8080/",
     "height": 85
    },
    "colab_type": "code",
    "id": "jJX664T9VdYO",
    "outputId": "cfa7c4f8-62f1-4e5f-fb34-7fbbf03cf5c7"
   },
   "outputs": [
    {
     "data": {
      "text/plain": [
       "array([ 97,  98, 101, 105, 106, 112, 115, 119, 120, 122, 126, 135, 137,\n",
       "       143, 144, 146, 156, 158, 160, 161, 162, 173, 174, 179, 184, 185,\n",
       "       186, 188, 191, 192, 193, 195, 197, 198, 199, 201, 202, 203, 204,\n",
       "       205, 206, 207, 208, 209, 210])"
      ]
     },
     "execution_count": 66,
     "metadata": {
      "tags": []
     },
     "output_type": "execute_result"
    }
   ],
   "source": [
    "np.unique(width)"
   ]
  },
  {
   "cell_type": "code",
   "execution_count": 0,
   "metadata": {
    "colab": {},
    "colab_type": "code",
    "id": "wC7dPM_a951f"
   },
   "outputs": [],
   "source": [
    "from PIL import Image\n",
    "\n",
    "def resize(image_pil):\n",
    "    '''\n",
    "    Resize PIL image keeping ratio and using white background.\n",
    "    '''\n",
    "    \n",
    "    width = 210\n",
    "    height = 158\n",
    "    ratio_w = width / image_pil.width\n",
    "    ratio_h = height / image_pil.height\n",
    "    if ratio_w < ratio_h:\n",
    "        # It must be fixed by width\n",
    "        resize_width = width\n",
    "        resize_height = round(ratio_w * image_pil.height)\n",
    "    else:\n",
    "        # Fixed by height\n",
    "        resize_width = round(ratio_h * image_pil.width)\n",
    "        resize_height = height\n",
    "    image_resize = image_pil.resize((resize_width, resize_height), Image.ANTIALIAS)\n",
    "    background = Image.new('RGBA', (width, height), (0,0,0,0))\n",
    "    offset = (round((width - resize_width) / 2), round((height - resize_height) / 2))\n",
    "    background.paste(image_resize, offset)\n",
    "    final_img = background.convert('RGB')\n",
    "    return final_img"
   ]
  },
  {
   "cell_type": "code",
   "execution_count": 0,
   "metadata": {
    "colab": {},
    "colab_type": "code",
    "id": "ikrtuCkm95zi"
   },
   "outputs": [],
   "source": [
    "path_train = os.listdir('/content/drive/My Drive/Game of DL/train/')"
   ]
  },
  {
   "cell_type": "code",
   "execution_count": 0,
   "metadata": {
    "colab": {
     "base_uri": "https://localhost:8080/",
     "height": 34
    },
    "colab_type": "code",
    "id": "L2MTY5Kj95wq",
    "outputId": "f26505ed-592e-41cb-dc93-c7ffbb78d0d5"
   },
   "outputs": [
    {
     "data": {
      "text/plain": [
       "['2863932.jpg', '2894476.jpg', '677115.jpg']"
      ]
     },
     "execution_count": 17,
     "metadata": {
      "tags": []
     },
     "output_type": "execute_result"
    }
   ],
   "source": [
    "path_train[:3]"
   ]
  },
  {
   "cell_type": "code",
   "execution_count": null,
   "metadata": {},
   "outputs": [],
   "source": [
    "#Resizing the input images to get them all to have same size\n",
    "#Doing this for both train and test images"
   ]
  },
  {
   "cell_type": "code",
   "execution_count": 0,
   "metadata": {
    "colab": {
     "base_uri": "https://localhost:8080/",
     "height": 34
    },
    "colab_type": "code",
    "id": "42jLTHW_7NqB",
    "outputId": "3b631055-ee03-4170-9480-d34b7a6285a7"
   },
   "outputs": [
    {
     "name": "stderr",
     "output_type": "stream",
     "text": [
      "100%|██████████| 6252/6252 [23:00<00:00,  4.43it/s]\n"
     ]
    }
   ],
   "source": [
    "for image in tqdm(path_train):\n",
    "  path = '/content/drive/My Drive/Game of DL/train/' + image\n",
    "  im = Image.open(open(path, 'rb'))\n",
    "  new_img = resize(im)\n",
    "  new_img.save(path)"
   ]
  },
  {
   "cell_type": "code",
   "execution_count": 0,
   "metadata": {
    "colab": {},
    "colab_type": "code",
    "id": "L39yfKCv7N6K"
   },
   "outputs": [],
   "source": [
    "path_test = os.listdir('/content/drive/My Drive/Game of DL/test/')"
   ]
  },
  {
   "cell_type": "code",
   "execution_count": 0,
   "metadata": {
    "colab": {
     "base_uri": "https://localhost:8080/",
     "height": 34
    },
    "colab_type": "code",
    "id": "xWNjhy217Oga",
    "outputId": "fb522a59-c398-4cf1-a1e2-ae77229a2464"
   },
   "outputs": [
    {
     "name": "stderr",
     "output_type": "stream",
     "text": [
      "100%|██████████| 2680/2680 [10:12<00:00,  4.46it/s]\n"
     ]
    }
   ],
   "source": [
    "for image in tqdm(path_test):\n",
    "  path = '/content/drive/My Drive/Game of DL/test/' + image\n",
    "  im = Image.open(open(path, 'rb'))\n",
    "  new_img = resize(im)\n",
    "  new_img.save(path)"
   ]
  },
  {
   "cell_type": "code",
   "execution_count": 0,
   "metadata": {
    "colab": {},
    "colab_type": "code",
    "id": "7A6Ac8Kx7OoV"
   },
   "outputs": [],
   "source": []
  },
  {
   "cell_type": "markdown",
   "metadata": {
    "colab": {},
    "colab_type": "code",
    "id": "x2jEwpSs7Oq4"
   },
   "source": [
    "### Defining image generator for image augmentation for better training"
   ]
  },
  {
   "cell_type": "code",
   "execution_count": 10,
   "metadata": {
    "colab": {
     "base_uri": "https://localhost:8080/",
     "height": 105
    },
    "colab_type": "code",
    "id": "0kxNIskAK6uz",
    "outputId": "76f534af-b4e9-420f-e021-0f406ded8d40"
   },
   "outputs": [
    {
     "name": "stdout",
     "output_type": "stream",
     "text": [
      "Found 5626 validated image filenames belonging to 5 classes.\n"
     ]
    },
    {
     "name": "stderr",
     "output_type": "stream",
     "text": [
      "/usr/local/lib/python3.6/dist-packages/keras_preprocessing/image/dataframe_iterator.py:273: UserWarning: Found 1 invalid image filename(s) in x_col=\"image\". These filename(s) will be ignored.\n",
      "  .format(n_invalid, x_col)\n"
     ]
    },
    {
     "data": {
      "text/plain": [
       "5626"
      ]
     },
     "execution_count": 10,
     "metadata": {
      "tags": []
     },
     "output_type": "execute_result"
    }
   ],
   "source": [
    "image_data_list = []\n",
    "#n = 100 # \n",
    "#img_folder = '../input/flipkart-traindata/training_r3/training/'\n",
    "train_datagen=ImageDataGenerator(\n",
    "    \n",
    "                                 zoom_range=0.2,\n",
    "                                 shear_range = 0.1,\n",
    "                                 width_shift_range=0.2,\n",
    "                                 height_shift_range=0.2,\n",
    "                                 brightness_range = [0.3 , 1],\n",
    "                                 horizontal_flip=True,\n",
    "                                 validation_split=0.1,\n",
    "                                 rescale=1./255,\n",
    "                                 fill_mode='nearest'\n",
    "                                 ) \n",
    "train_generator=train_datagen.flow_from_dataframe(train,\n",
    "                                                '/content/drive/My Drive/Game of DL/train/',\n",
    "                                                target_size=(158,210),\n",
    "                                                color_mode='rgb',\n",
    "                                                x_col=\"image\",\n",
    "                                                y_col=\"category\",\n",
    "                                                subset=\"training\",\n",
    "                                                batch_size=331,\n",
    "                                                seed=42,\n",
    "                                                shuffle=True,\n",
    "                                                class_mode=\"categorical\",\n",
    "                                                preprocessing_function=preprocess_input)\n",
    "                                                #preprocessing_function=resize)\n",
    "step_size_train=train_generator.n//train_generator.batch_size\n",
    "train_generator.n"
   ]
  },
  {
   "cell_type": "code",
   "execution_count": 11,
   "metadata": {
    "colab": {
     "base_uri": "https://localhost:8080/",
     "height": 51
    },
    "colab_type": "code",
    "id": "Q9lam5vlK7Co",
    "outputId": "48f9fbcf-34c5-419e-9c71-ea19548c36d2"
   },
   "outputs": [
    {
     "name": "stdout",
     "output_type": "stream",
     "text": [
      "Found 625 validated image filenames belonging to 5 classes.\n"
     ]
    },
    {
     "data": {
      "text/plain": [
       "625"
      ]
     },
     "execution_count": 11,
     "metadata": {
      "tags": []
     },
     "output_type": "execute_result"
    }
   ],
   "source": [
    "valid_generator=train_datagen.flow_from_dataframe(\n",
    "                                            dataframe=train,\n",
    "                                            directory=\"/content/drive/My Drive/Game of DL/train/\",\n",
    "                                            x_col=\"image\",\n",
    "                                            y_col=\"category\",\n",
    "                                            subset=\"validation\",\n",
    "                                            batch_size=125,\n",
    "                                            seed=42,\n",
    "                                            shuffle=True,\n",
    "                                            class_mode=\"categorical\",\n",
    "                                            target_size=(158,210),\n",
    "                                            color_mode = 'rgb',\n",
    "                                            preprocessing_function=preprocess_input)\n",
    "                                            #preprocessing_function=resize)\n",
    "step_size_valid=valid_generator.n//valid_generator.batch_size\n",
    "valid_generator.n\n"
   ]
  },
  {
   "cell_type": "code",
   "execution_count": 12,
   "metadata": {
    "colab": {
     "base_uri": "https://localhost:8080/",
     "height": 51
    },
    "colab_type": "code",
    "id": "tW65yEuRK7nw",
    "outputId": "c06b8610-039d-4b57-9e18-a5b990b90c1c"
   },
   "outputs": [
    {
     "name": "stdout",
     "output_type": "stream",
     "text": [
      "Found 2680 validated image filenames.\n"
     ]
    },
    {
     "data": {
      "text/plain": [
       "2680"
      ]
     },
     "execution_count": 12,
     "metadata": {
      "tags": []
     },
     "output_type": "execute_result"
    }
   ],
   "source": [
    "test_datagen=ImageDataGenerator(rescale=1./255.)\n",
    "test_generator=test_datagen.flow_from_dataframe(\n",
    "                                              dataframe=test,\n",
    "                                              directory=\"/content/drive/My Drive/Game of DL/test/\",\n",
    "                                              x_col=\"image\",\n",
    "                                              y_col=None,\n",
    "                                              batch_size=40,\n",
    "                                              seed=42,\n",
    "                                              shuffle=False,\n",
    "                                              class_mode=None,\n",
    "                                              target_size=(158,210),\n",
    "                                              color_mode = 'rgb',\n",
    "                                              preprocessing_function=preprocess_input)\n",
    "                                              #preprocessing_function=resize)\n",
    "step_size_test=test_generator.n//test_generator.batch_size\n",
    "test_generator.n\n"
   ]
  },
  {
   "cell_type": "markdown",
   "metadata": {},
   "source": [
    "### Defining metric \"F1\""
   ]
  },
  {
   "cell_type": "code",
   "execution_count": 0,
   "metadata": {
    "colab": {},
    "colab_type": "code",
    "id": "pRDRbodRDnxj"
   },
   "outputs": [],
   "source": [
    "#Defination of f1 score\n",
    "def f1(y_true, y_pred):\n",
    "    def recall(y_true, y_pred):\n",
    "        \"\"\"Recall metric.\n",
    "\n",
    "        Only computes a batch-wise average of recall.\n",
    "\n",
    "        Computes the recall, a metric for multi-label classification of\n",
    "        how many relevant items are selected.\n",
    "        \"\"\"\n",
    "        true_positives = K.sum(K.round(K.clip(y_true * y_pred, 0, 1)))\n",
    "        possible_positives = K.sum(K.round(K.clip(y_true, 0, 1)))\n",
    "        recall = true_positives / (possible_positives + K.epsilon())\n",
    "        return recall\n",
    "\n",
    "    def precision(y_true, y_pred):\n",
    "        \"\"\"Precision metric.\n",
    "\n",
    "        Only computes a batch-wise average of precision.\n",
    "\n",
    "        Computes the precision, a metric for multi-label classification of\n",
    "        how many selected items are relevant.\n",
    "        \"\"\"\n",
    "        true_positives = K.sum(K.round(K.clip(y_true * y_pred, 0, 1)))\n",
    "        predicted_positives = K.sum(K.round(K.clip(y_pred, 0, 1)))\n",
    "        precision = true_positives / (predicted_positives + K.epsilon())\n",
    "        return precision\n",
    "    precision = precision(y_true, y_pred)\n",
    "    recall = recall(y_true, y_pred)\n",
    "    return 2*((precision*recall)/(precision+recall+K.epsilon()))"
   ]
  },
  {
   "cell_type": "code",
   "execution_count": null,
   "metadata": {},
   "outputs": [],
   "source": []
  },
  {
   "cell_type": "markdown",
   "metadata": {},
   "source": [
    "## Loading the pre-trained model of resnet50 / xception and using layers compatible by colab's TPU"
   ]
  },
  {
   "cell_type": "code",
   "execution_count": 13,
   "metadata": {
    "colab": {
     "base_uri": "https://localhost:8080/",
     "height": 156
    },
    "colab_type": "code",
    "id": "GfGIQxnc8spc",
    "outputId": "6fb360a8-88ea-4d52-bcc1-300996ab84d2"
   },
   "outputs": [
    {
     "name": "stdout",
     "output_type": "stream",
     "text": [
      "WARNING:tensorflow:From /usr/local/lib/python3.6/dist-packages/tensorflow/python/ops/resource_variable_ops.py:435: colocate_with (from tensorflow.python.framework.ops) is deprecated and will be removed in a future version.\n",
      "Instructions for updating:\n",
      "Colocations handled automatically by placer.\n"
     ]
    },
    {
     "name": "stderr",
     "output_type": "stream",
     "text": [
      "/usr/local/lib/python3.6/dist-packages/keras_applications/resnet50.py:265: UserWarning: The output shape of `ResNet50(include_top=False)` has been changed since Keras 2.2.0.\n",
      "  warnings.warn('The output shape of `ResNet50(include_top=False)` '\n"
     ]
    },
    {
     "name": "stdout",
     "output_type": "stream",
     "text": [
      "Downloading data from https://github.com/fchollet/deep-learning-models/releases/download/v0.2/resnet50_weights_tf_dim_ordering_tf_kernels_notop.h5\n",
      "94658560/94653016 [==============================] - 1s 0us/step\n"
     ]
    }
   ],
   "source": [
    "IMG_SHAPE = (158,210,3)\n",
    "\n",
    "# Create the base model from the pre-trained model MobileNet V2\n",
    "base_model = tf.keras.applications.ResNet50(input_shape=IMG_SHAPE,\n",
    "                                               include_top=False, \n",
    "                                               weights='imagenet')\n",
    "print(\"Number of layers in the base model: \", len(base_model.layers))"
   ]
  },
  {
   "cell_type": "code",
   "execution_count": 15,
   "metadata": {
    "colab": {
     "base_uri": "https://localhost:8080/",
     "height": 88
    },
    "colab_type": "code",
    "id": "TLTAhcbD8sx2",
    "outputId": "cbcfb08e-df0c-496f-916c-7e99ea91c933"
   },
   "outputs": [
    {
     "name": "stdout",
     "output_type": "stream",
     "text": [
      "WARNING:tensorflow:From /usr/local/lib/python3.6/dist-packages/tensorflow/python/keras/layers/core.py:143: calling dropout (from tensorflow.python.ops.nn_ops) with keep_prob is deprecated and will be removed in a future version.\n",
      "Instructions for updating:\n",
      "Please use `rate` instead of `keep_prob`. Rate should be set to `rate = 1 - keep_prob`.\n"
     ]
    }
   ],
   "source": [
    "for layer in base_model.layers:\n",
    "    layer.trainable = True\n",
    "\n",
    "model = tf.keras.models.Sequential()\n",
    "# first (and only) set of FC => RELU layers\n",
    "model.add(tf.keras.layers.Flatten())\n",
    "model.add(tf.keras.layers.Dense(128, activation='relu'))\n",
    "model.add(tf.keras.layers.Dropout(0.25))\n",
    "model.add(tf.keras.layers.BatchNormalization())\n",
    "model.add(tf.keras.layers.Dense(64, activation='relu'))\n",
    "model.add(tf.keras.layers.Dropout(0.25))\n",
    "model.add(tf.keras.layers.BatchNormalization())\n",
    "\n",
    "# softmax classifier\n",
    "model.add(tf.keras.layers.Dense(5,activation='softmax'))\n",
    "\n",
    "pretrainedInput = base_model.input\n",
    "pretrainedOutput = base_model.output\n",
    "output = model(pretrainedOutput)\n",
    "model = tf.keras.models.Model(pretrainedInput, output)"
   ]
  },
  {
   "cell_type": "code",
   "execution_count": 16,
   "metadata": {
    "colab": {
     "base_uri": "https://localhost:8080/",
     "height": 6392
    },
    "colab_type": "code",
    "collapsed": true,
    "id": "D8EOAujT8svE",
    "outputId": "15ccd55e-b841-4601-9a32-7a48634d548d"
   },
   "outputs": [
    {
     "name": "stdout",
     "output_type": "stream",
     "text": [
      "__________________________________________________________________________________________________\n",
      "Layer (type)                    Output Shape         Param #     Connected to                     \n",
      "==================================================================================================\n",
      "input_1 (InputLayer)            (None, 158, 210, 3)  0                                            \n",
      "__________________________________________________________________________________________________\n",
      "conv1_pad (ZeroPadding2D)       (None, 164, 216, 3)  0           input_1[0][0]                    \n",
      "__________________________________________________________________________________________________\n",
      "conv1 (Conv2D)                  (None, 79, 105, 64)  9472        conv1_pad[0][0]                  \n",
      "__________________________________________________________________________________________________\n",
      "bn_conv1 (BatchNormalizationV1) (None, 79, 105, 64)  256         conv1[0][0]                      \n",
      "__________________________________________________________________________________________________\n",
      "activation (Activation)         (None, 79, 105, 64)  0           bn_conv1[0][0]                   \n",
      "__________________________________________________________________________________________________\n",
      "pool1_pad (ZeroPadding2D)       (None, 81, 107, 64)  0           activation[0][0]                 \n",
      "__________________________________________________________________________________________________\n",
      "max_pooling2d (MaxPooling2D)    (None, 40, 53, 64)   0           pool1_pad[0][0]                  \n",
      "__________________________________________________________________________________________________\n",
      "res2a_branch2a (Conv2D)         (None, 40, 53, 64)   4160        max_pooling2d[0][0]              \n",
      "__________________________________________________________________________________________________\n",
      "bn2a_branch2a (BatchNormalizati (None, 40, 53, 64)   256         res2a_branch2a[0][0]             \n",
      "__________________________________________________________________________________________________\n",
      "activation_1 (Activation)       (None, 40, 53, 64)   0           bn2a_branch2a[0][0]              \n",
      "__________________________________________________________________________________________________\n",
      "res2a_branch2b (Conv2D)         (None, 40, 53, 64)   36928       activation_1[0][0]               \n",
      "__________________________________________________________________________________________________\n",
      "bn2a_branch2b (BatchNormalizati (None, 40, 53, 64)   256         res2a_branch2b[0][0]             \n",
      "__________________________________________________________________________________________________\n",
      "activation_2 (Activation)       (None, 40, 53, 64)   0           bn2a_branch2b[0][0]              \n",
      "__________________________________________________________________________________________________\n",
      "res2a_branch2c (Conv2D)         (None, 40, 53, 256)  16640       activation_2[0][0]               \n",
      "__________________________________________________________________________________________________\n",
      "res2a_branch1 (Conv2D)          (None, 40, 53, 256)  16640       max_pooling2d[0][0]              \n",
      "__________________________________________________________________________________________________\n",
      "bn2a_branch2c (BatchNormalizati (None, 40, 53, 256)  1024        res2a_branch2c[0][0]             \n",
      "__________________________________________________________________________________________________\n",
      "bn2a_branch1 (BatchNormalizatio (None, 40, 53, 256)  1024        res2a_branch1[0][0]              \n",
      "__________________________________________________________________________________________________\n",
      "add (Add)                       (None, 40, 53, 256)  0           bn2a_branch2c[0][0]              \n",
      "                                                                 bn2a_branch1[0][0]               \n",
      "__________________________________________________________________________________________________\n",
      "activation_3 (Activation)       (None, 40, 53, 256)  0           add[0][0]                        \n",
      "__________________________________________________________________________________________________\n",
      "res2b_branch2a (Conv2D)         (None, 40, 53, 64)   16448       activation_3[0][0]               \n",
      "__________________________________________________________________________________________________\n",
      "bn2b_branch2a (BatchNormalizati (None, 40, 53, 64)   256         res2b_branch2a[0][0]             \n",
      "__________________________________________________________________________________________________\n",
      "activation_4 (Activation)       (None, 40, 53, 64)   0           bn2b_branch2a[0][0]              \n",
      "__________________________________________________________________________________________________\n",
      "res2b_branch2b (Conv2D)         (None, 40, 53, 64)   36928       activation_4[0][0]               \n",
      "__________________________________________________________________________________________________\n",
      "bn2b_branch2b (BatchNormalizati (None, 40, 53, 64)   256         res2b_branch2b[0][0]             \n",
      "__________________________________________________________________________________________________\n",
      "activation_5 (Activation)       (None, 40, 53, 64)   0           bn2b_branch2b[0][0]              \n",
      "__________________________________________________________________________________________________\n",
      "res2b_branch2c (Conv2D)         (None, 40, 53, 256)  16640       activation_5[0][0]               \n",
      "__________________________________________________________________________________________________\n",
      "bn2b_branch2c (BatchNormalizati (None, 40, 53, 256)  1024        res2b_branch2c[0][0]             \n",
      "__________________________________________________________________________________________________\n",
      "add_1 (Add)                     (None, 40, 53, 256)  0           bn2b_branch2c[0][0]              \n",
      "                                                                 activation_3[0][0]               \n",
      "__________________________________________________________________________________________________\n",
      "activation_6 (Activation)       (None, 40, 53, 256)  0           add_1[0][0]                      \n",
      "__________________________________________________________________________________________________\n",
      "res2c_branch2a (Conv2D)         (None, 40, 53, 64)   16448       activation_6[0][0]               \n",
      "__________________________________________________________________________________________________\n",
      "bn2c_branch2a (BatchNormalizati (None, 40, 53, 64)   256         res2c_branch2a[0][0]             \n",
      "__________________________________________________________________________________________________\n",
      "activation_7 (Activation)       (None, 40, 53, 64)   0           bn2c_branch2a[0][0]              \n",
      "__________________________________________________________________________________________________\n",
      "res2c_branch2b (Conv2D)         (None, 40, 53, 64)   36928       activation_7[0][0]               \n",
      "__________________________________________________________________________________________________\n",
      "bn2c_branch2b (BatchNormalizati (None, 40, 53, 64)   256         res2c_branch2b[0][0]             \n",
      "__________________________________________________________________________________________________\n",
      "activation_8 (Activation)       (None, 40, 53, 64)   0           bn2c_branch2b[0][0]              \n",
      "__________________________________________________________________________________________________\n",
      "res2c_branch2c (Conv2D)         (None, 40, 53, 256)  16640       activation_8[0][0]               \n",
      "__________________________________________________________________________________________________\n",
      "bn2c_branch2c (BatchNormalizati (None, 40, 53, 256)  1024        res2c_branch2c[0][0]             \n",
      "__________________________________________________________________________________________________\n",
      "add_2 (Add)                     (None, 40, 53, 256)  0           bn2c_branch2c[0][0]              \n",
      "                                                                 activation_6[0][0]               \n",
      "__________________________________________________________________________________________________\n",
      "activation_9 (Activation)       (None, 40, 53, 256)  0           add_2[0][0]                      \n",
      "__________________________________________________________________________________________________\n",
      "res3a_branch2a (Conv2D)         (None, 20, 27, 128)  32896       activation_9[0][0]               \n",
      "__________________________________________________________________________________________________\n",
      "bn3a_branch2a (BatchNormalizati (None, 20, 27, 128)  512         res3a_branch2a[0][0]             \n",
      "__________________________________________________________________________________________________\n",
      "activation_10 (Activation)      (None, 20, 27, 128)  0           bn3a_branch2a[0][0]              \n",
      "__________________________________________________________________________________________________\n",
      "res3a_branch2b (Conv2D)         (None, 20, 27, 128)  147584      activation_10[0][0]              \n",
      "__________________________________________________________________________________________________\n",
      "bn3a_branch2b (BatchNormalizati (None, 20, 27, 128)  512         res3a_branch2b[0][0]             \n",
      "__________________________________________________________________________________________________\n",
      "activation_11 (Activation)      (None, 20, 27, 128)  0           bn3a_branch2b[0][0]              \n",
      "__________________________________________________________________________________________________\n",
      "res3a_branch2c (Conv2D)         (None, 20, 27, 512)  66048       activation_11[0][0]              \n",
      "__________________________________________________________________________________________________\n",
      "res3a_branch1 (Conv2D)          (None, 20, 27, 512)  131584      activation_9[0][0]               \n",
      "__________________________________________________________________________________________________\n",
      "bn3a_branch2c (BatchNormalizati (None, 20, 27, 512)  2048        res3a_branch2c[0][0]             \n",
      "__________________________________________________________________________________________________\n",
      "bn3a_branch1 (BatchNormalizatio (None, 20, 27, 512)  2048        res3a_branch1[0][0]              \n",
      "__________________________________________________________________________________________________\n",
      "add_3 (Add)                     (None, 20, 27, 512)  0           bn3a_branch2c[0][0]              \n",
      "                                                                 bn3a_branch1[0][0]               \n",
      "__________________________________________________________________________________________________\n",
      "activation_12 (Activation)      (None, 20, 27, 512)  0           add_3[0][0]                      \n",
      "__________________________________________________________________________________________________\n",
      "res3b_branch2a (Conv2D)         (None, 20, 27, 128)  65664       activation_12[0][0]              \n",
      "__________________________________________________________________________________________________\n",
      "bn3b_branch2a (BatchNormalizati (None, 20, 27, 128)  512         res3b_branch2a[0][0]             \n",
      "__________________________________________________________________________________________________\n",
      "activation_13 (Activation)      (None, 20, 27, 128)  0           bn3b_branch2a[0][0]              \n",
      "__________________________________________________________________________________________________\n",
      "res3b_branch2b (Conv2D)         (None, 20, 27, 128)  147584      activation_13[0][0]              \n",
      "__________________________________________________________________________________________________\n",
      "bn3b_branch2b (BatchNormalizati (None, 20, 27, 128)  512         res3b_branch2b[0][0]             \n",
      "__________________________________________________________________________________________________\n",
      "activation_14 (Activation)      (None, 20, 27, 128)  0           bn3b_branch2b[0][0]              \n",
      "__________________________________________________________________________________________________\n",
      "res3b_branch2c (Conv2D)         (None, 20, 27, 512)  66048       activation_14[0][0]              \n",
      "__________________________________________________________________________________________________\n",
      "bn3b_branch2c (BatchNormalizati (None, 20, 27, 512)  2048        res3b_branch2c[0][0]             \n",
      "__________________________________________________________________________________________________\n",
      "add_4 (Add)                     (None, 20, 27, 512)  0           bn3b_branch2c[0][0]              \n",
      "                                                                 activation_12[0][0]              \n",
      "__________________________________________________________________________________________________\n",
      "activation_15 (Activation)      (None, 20, 27, 512)  0           add_4[0][0]                      \n",
      "__________________________________________________________________________________________________\n",
      "res3c_branch2a (Conv2D)         (None, 20, 27, 128)  65664       activation_15[0][0]              \n",
      "__________________________________________________________________________________________________\n",
      "bn3c_branch2a (BatchNormalizati (None, 20, 27, 128)  512         res3c_branch2a[0][0]             \n",
      "__________________________________________________________________________________________________\n",
      "activation_16 (Activation)      (None, 20, 27, 128)  0           bn3c_branch2a[0][0]              \n",
      "__________________________________________________________________________________________________\n",
      "res3c_branch2b (Conv2D)         (None, 20, 27, 128)  147584      activation_16[0][0]              \n",
      "__________________________________________________________________________________________________\n",
      "bn3c_branch2b (BatchNormalizati (None, 20, 27, 128)  512         res3c_branch2b[0][0]             \n",
      "__________________________________________________________________________________________________\n",
      "activation_17 (Activation)      (None, 20, 27, 128)  0           bn3c_branch2b[0][0]              \n",
      "__________________________________________________________________________________________________\n",
      "res3c_branch2c (Conv2D)         (None, 20, 27, 512)  66048       activation_17[0][0]              \n",
      "__________________________________________________________________________________________________\n",
      "bn3c_branch2c (BatchNormalizati (None, 20, 27, 512)  2048        res3c_branch2c[0][0]             \n",
      "__________________________________________________________________________________________________\n",
      "add_5 (Add)                     (None, 20, 27, 512)  0           bn3c_branch2c[0][0]              \n",
      "                                                                 activation_15[0][0]              \n",
      "__________________________________________________________________________________________________\n",
      "activation_18 (Activation)      (None, 20, 27, 512)  0           add_5[0][0]                      \n",
      "__________________________________________________________________________________________________\n",
      "res3d_branch2a (Conv2D)         (None, 20, 27, 128)  65664       activation_18[0][0]              \n",
      "__________________________________________________________________________________________________\n",
      "bn3d_branch2a (BatchNormalizati (None, 20, 27, 128)  512         res3d_branch2a[0][0]             \n",
      "__________________________________________________________________________________________________\n",
      "activation_19 (Activation)      (None, 20, 27, 128)  0           bn3d_branch2a[0][0]              \n",
      "__________________________________________________________________________________________________\n",
      "res3d_branch2b (Conv2D)         (None, 20, 27, 128)  147584      activation_19[0][0]              \n",
      "__________________________________________________________________________________________________\n",
      "bn3d_branch2b (BatchNormalizati (None, 20, 27, 128)  512         res3d_branch2b[0][0]             \n",
      "__________________________________________________________________________________________________\n",
      "activation_20 (Activation)      (None, 20, 27, 128)  0           bn3d_branch2b[0][0]              \n",
      "__________________________________________________________________________________________________\n",
      "res3d_branch2c (Conv2D)         (None, 20, 27, 512)  66048       activation_20[0][0]              \n",
      "__________________________________________________________________________________________________\n",
      "bn3d_branch2c (BatchNormalizati (None, 20, 27, 512)  2048        res3d_branch2c[0][0]             \n",
      "__________________________________________________________________________________________________\n",
      "add_6 (Add)                     (None, 20, 27, 512)  0           bn3d_branch2c[0][0]              \n",
      "                                                                 activation_18[0][0]              \n",
      "__________________________________________________________________________________________________\n",
      "activation_21 (Activation)      (None, 20, 27, 512)  0           add_6[0][0]                      \n",
      "__________________________________________________________________________________________________\n",
      "res4a_branch2a (Conv2D)         (None, 10, 14, 256)  131328      activation_21[0][0]              \n",
      "__________________________________________________________________________________________________\n",
      "bn4a_branch2a (BatchNormalizati (None, 10, 14, 256)  1024        res4a_branch2a[0][0]             \n",
      "__________________________________________________________________________________________________\n",
      "activation_22 (Activation)      (None, 10, 14, 256)  0           bn4a_branch2a[0][0]              \n",
      "__________________________________________________________________________________________________\n",
      "res4a_branch2b (Conv2D)         (None, 10, 14, 256)  590080      activation_22[0][0]              \n",
      "__________________________________________________________________________________________________\n",
      "bn4a_branch2b (BatchNormalizati (None, 10, 14, 256)  1024        res4a_branch2b[0][0]             \n",
      "__________________________________________________________________________________________________\n",
      "activation_23 (Activation)      (None, 10, 14, 256)  0           bn4a_branch2b[0][0]              \n",
      "__________________________________________________________________________________________________\n",
      "res4a_branch2c (Conv2D)         (None, 10, 14, 1024) 263168      activation_23[0][0]              \n",
      "__________________________________________________________________________________________________\n",
      "res4a_branch1 (Conv2D)          (None, 10, 14, 1024) 525312      activation_21[0][0]              \n",
      "__________________________________________________________________________________________________\n",
      "bn4a_branch2c (BatchNormalizati (None, 10, 14, 1024) 4096        res4a_branch2c[0][0]             \n",
      "__________________________________________________________________________________________________\n",
      "bn4a_branch1 (BatchNormalizatio (None, 10, 14, 1024) 4096        res4a_branch1[0][0]              \n",
      "__________________________________________________________________________________________________\n",
      "add_7 (Add)                     (None, 10, 14, 1024) 0           bn4a_branch2c[0][0]              \n",
      "                                                                 bn4a_branch1[0][0]               \n",
      "__________________________________________________________________________________________________\n",
      "activation_24 (Activation)      (None, 10, 14, 1024) 0           add_7[0][0]                      \n",
      "__________________________________________________________________________________________________\n",
      "res4b_branch2a (Conv2D)         (None, 10, 14, 256)  262400      activation_24[0][0]              \n",
      "__________________________________________________________________________________________________\n",
      "bn4b_branch2a (BatchNormalizati (None, 10, 14, 256)  1024        res4b_branch2a[0][0]             \n",
      "__________________________________________________________________________________________________\n",
      "activation_25 (Activation)      (None, 10, 14, 256)  0           bn4b_branch2a[0][0]              \n",
      "__________________________________________________________________________________________________\n",
      "res4b_branch2b (Conv2D)         (None, 10, 14, 256)  590080      activation_25[0][0]              \n",
      "__________________________________________________________________________________________________\n",
      "bn4b_branch2b (BatchNormalizati (None, 10, 14, 256)  1024        res4b_branch2b[0][0]             \n",
      "__________________________________________________________________________________________________\n",
      "activation_26 (Activation)      (None, 10, 14, 256)  0           bn4b_branch2b[0][0]              \n",
      "__________________________________________________________________________________________________\n",
      "res4b_branch2c (Conv2D)         (None, 10, 14, 1024) 263168      activation_26[0][0]              \n",
      "__________________________________________________________________________________________________\n",
      "bn4b_branch2c (BatchNormalizati (None, 10, 14, 1024) 4096        res4b_branch2c[0][0]             \n",
      "__________________________________________________________________________________________________\n",
      "add_8 (Add)                     (None, 10, 14, 1024) 0           bn4b_branch2c[0][0]              \n",
      "                                                                 activation_24[0][0]              \n",
      "__________________________________________________________________________________________________\n",
      "activation_27 (Activation)      (None, 10, 14, 1024) 0           add_8[0][0]                      \n",
      "__________________________________________________________________________________________________\n",
      "res4c_branch2a (Conv2D)         (None, 10, 14, 256)  262400      activation_27[0][0]              \n",
      "__________________________________________________________________________________________________\n",
      "bn4c_branch2a (BatchNormalizati (None, 10, 14, 256)  1024        res4c_branch2a[0][0]             \n",
      "__________________________________________________________________________________________________\n",
      "activation_28 (Activation)      (None, 10, 14, 256)  0           bn4c_branch2a[0][0]              \n",
      "__________________________________________________________________________________________________\n",
      "res4c_branch2b (Conv2D)         (None, 10, 14, 256)  590080      activation_28[0][0]              \n",
      "__________________________________________________________________________________________________\n",
      "bn4c_branch2b (BatchNormalizati (None, 10, 14, 256)  1024        res4c_branch2b[0][0]             \n",
      "__________________________________________________________________________________________________\n",
      "activation_29 (Activation)      (None, 10, 14, 256)  0           bn4c_branch2b[0][0]              \n",
      "__________________________________________________________________________________________________\n",
      "res4c_branch2c (Conv2D)         (None, 10, 14, 1024) 263168      activation_29[0][0]              \n",
      "__________________________________________________________________________________________________\n",
      "bn4c_branch2c (BatchNormalizati (None, 10, 14, 1024) 4096        res4c_branch2c[0][0]             \n",
      "__________________________________________________________________________________________________\n",
      "add_9 (Add)                     (None, 10, 14, 1024) 0           bn4c_branch2c[0][0]              \n",
      "                                                                 activation_27[0][0]              \n",
      "__________________________________________________________________________________________________\n",
      "activation_30 (Activation)      (None, 10, 14, 1024) 0           add_9[0][0]                      \n",
      "__________________________________________________________________________________________________\n",
      "res4d_branch2a (Conv2D)         (None, 10, 14, 256)  262400      activation_30[0][0]              \n",
      "__________________________________________________________________________________________________\n",
      "bn4d_branch2a (BatchNormalizati (None, 10, 14, 256)  1024        res4d_branch2a[0][0]             \n",
      "__________________________________________________________________________________________________\n",
      "activation_31 (Activation)      (None, 10, 14, 256)  0           bn4d_branch2a[0][0]              \n",
      "__________________________________________________________________________________________________\n",
      "res4d_branch2b (Conv2D)         (None, 10, 14, 256)  590080      activation_31[0][0]              \n",
      "__________________________________________________________________________________________________\n",
      "bn4d_branch2b (BatchNormalizati (None, 10, 14, 256)  1024        res4d_branch2b[0][0]             \n",
      "__________________________________________________________________________________________________\n",
      "activation_32 (Activation)      (None, 10, 14, 256)  0           bn4d_branch2b[0][0]              \n",
      "__________________________________________________________________________________________________\n",
      "res4d_branch2c (Conv2D)         (None, 10, 14, 1024) 263168      activation_32[0][0]              \n",
      "__________________________________________________________________________________________________\n",
      "bn4d_branch2c (BatchNormalizati (None, 10, 14, 1024) 4096        res4d_branch2c[0][0]             \n",
      "__________________________________________________________________________________________________\n",
      "add_10 (Add)                    (None, 10, 14, 1024) 0           bn4d_branch2c[0][0]              \n",
      "                                                                 activation_30[0][0]              \n",
      "__________________________________________________________________________________________________\n",
      "activation_33 (Activation)      (None, 10, 14, 1024) 0           add_10[0][0]                     \n",
      "__________________________________________________________________________________________________\n",
      "res4e_branch2a (Conv2D)         (None, 10, 14, 256)  262400      activation_33[0][0]              \n",
      "__________________________________________________________________________________________________\n",
      "bn4e_branch2a (BatchNormalizati (None, 10, 14, 256)  1024        res4e_branch2a[0][0]             \n",
      "__________________________________________________________________________________________________\n",
      "activation_34 (Activation)      (None, 10, 14, 256)  0           bn4e_branch2a[0][0]              \n",
      "__________________________________________________________________________________________________\n",
      "res4e_branch2b (Conv2D)         (None, 10, 14, 256)  590080      activation_34[0][0]              \n",
      "__________________________________________________________________________________________________\n",
      "bn4e_branch2b (BatchNormalizati (None, 10, 14, 256)  1024        res4e_branch2b[0][0]             \n",
      "__________________________________________________________________________________________________\n",
      "activation_35 (Activation)      (None, 10, 14, 256)  0           bn4e_branch2b[0][0]              \n",
      "__________________________________________________________________________________________________\n",
      "res4e_branch2c (Conv2D)         (None, 10, 14, 1024) 263168      activation_35[0][0]              \n",
      "__________________________________________________________________________________________________\n",
      "bn4e_branch2c (BatchNormalizati (None, 10, 14, 1024) 4096        res4e_branch2c[0][0]             \n",
      "__________________________________________________________________________________________________\n",
      "add_11 (Add)                    (None, 10, 14, 1024) 0           bn4e_branch2c[0][0]              \n",
      "                                                                 activation_33[0][0]              \n",
      "__________________________________________________________________________________________________\n",
      "activation_36 (Activation)      (None, 10, 14, 1024) 0           add_11[0][0]                     \n",
      "__________________________________________________________________________________________________\n",
      "res4f_branch2a (Conv2D)         (None, 10, 14, 256)  262400      activation_36[0][0]              \n",
      "__________________________________________________________________________________________________\n",
      "bn4f_branch2a (BatchNormalizati (None, 10, 14, 256)  1024        res4f_branch2a[0][0]             \n",
      "__________________________________________________________________________________________________\n",
      "activation_37 (Activation)      (None, 10, 14, 256)  0           bn4f_branch2a[0][0]              \n",
      "__________________________________________________________________________________________________\n",
      "res4f_branch2b (Conv2D)         (None, 10, 14, 256)  590080      activation_37[0][0]              \n",
      "__________________________________________________________________________________________________\n",
      "bn4f_branch2b (BatchNormalizati (None, 10, 14, 256)  1024        res4f_branch2b[0][0]             \n",
      "__________________________________________________________________________________________________\n",
      "activation_38 (Activation)      (None, 10, 14, 256)  0           bn4f_branch2b[0][0]              \n",
      "__________________________________________________________________________________________________\n",
      "res4f_branch2c (Conv2D)         (None, 10, 14, 1024) 263168      activation_38[0][0]              \n",
      "__________________________________________________________________________________________________\n",
      "bn4f_branch2c (BatchNormalizati (None, 10, 14, 1024) 4096        res4f_branch2c[0][0]             \n",
      "__________________________________________________________________________________________________\n",
      "add_12 (Add)                    (None, 10, 14, 1024) 0           bn4f_branch2c[0][0]              \n",
      "                                                                 activation_36[0][0]              \n",
      "__________________________________________________________________________________________________\n",
      "activation_39 (Activation)      (None, 10, 14, 1024) 0           add_12[0][0]                     \n",
      "__________________________________________________________________________________________________\n",
      "res5a_branch2a (Conv2D)         (None, 5, 7, 512)    524800      activation_39[0][0]              \n",
      "__________________________________________________________________________________________________\n",
      "bn5a_branch2a (BatchNormalizati (None, 5, 7, 512)    2048        res5a_branch2a[0][0]             \n",
      "__________________________________________________________________________________________________\n",
      "activation_40 (Activation)      (None, 5, 7, 512)    0           bn5a_branch2a[0][0]              \n",
      "__________________________________________________________________________________________________\n",
      "res5a_branch2b (Conv2D)         (None, 5, 7, 512)    2359808     activation_40[0][0]              \n",
      "__________________________________________________________________________________________________\n",
      "bn5a_branch2b (BatchNormalizati (None, 5, 7, 512)    2048        res5a_branch2b[0][0]             \n",
      "__________________________________________________________________________________________________\n",
      "activation_41 (Activation)      (None, 5, 7, 512)    0           bn5a_branch2b[0][0]              \n",
      "__________________________________________________________________________________________________\n",
      "res5a_branch2c (Conv2D)         (None, 5, 7, 2048)   1050624     activation_41[0][0]              \n",
      "__________________________________________________________________________________________________\n",
      "res5a_branch1 (Conv2D)          (None, 5, 7, 2048)   2099200     activation_39[0][0]              \n",
      "__________________________________________________________________________________________________\n",
      "bn5a_branch2c (BatchNormalizati (None, 5, 7, 2048)   8192        res5a_branch2c[0][0]             \n",
      "__________________________________________________________________________________________________\n",
      "bn5a_branch1 (BatchNormalizatio (None, 5, 7, 2048)   8192        res5a_branch1[0][0]              \n",
      "__________________________________________________________________________________________________\n",
      "add_13 (Add)                    (None, 5, 7, 2048)   0           bn5a_branch2c[0][0]              \n",
      "                                                                 bn5a_branch1[0][0]               \n",
      "__________________________________________________________________________________________________\n",
      "activation_42 (Activation)      (None, 5, 7, 2048)   0           add_13[0][0]                     \n",
      "__________________________________________________________________________________________________\n",
      "res5b_branch2a (Conv2D)         (None, 5, 7, 512)    1049088     activation_42[0][0]              \n",
      "__________________________________________________________________________________________________\n",
      "bn5b_branch2a (BatchNormalizati (None, 5, 7, 512)    2048        res5b_branch2a[0][0]             \n",
      "__________________________________________________________________________________________________\n",
      "activation_43 (Activation)      (None, 5, 7, 512)    0           bn5b_branch2a[0][0]              \n",
      "__________________________________________________________________________________________________\n",
      "res5b_branch2b (Conv2D)         (None, 5, 7, 512)    2359808     activation_43[0][0]              \n",
      "__________________________________________________________________________________________________\n",
      "bn5b_branch2b (BatchNormalizati (None, 5, 7, 512)    2048        res5b_branch2b[0][0]             \n",
      "__________________________________________________________________________________________________\n",
      "activation_44 (Activation)      (None, 5, 7, 512)    0           bn5b_branch2b[0][0]              \n",
      "__________________________________________________________________________________________________\n",
      "res5b_branch2c (Conv2D)         (None, 5, 7, 2048)   1050624     activation_44[0][0]              \n",
      "__________________________________________________________________________________________________\n",
      "bn5b_branch2c (BatchNormalizati (None, 5, 7, 2048)   8192        res5b_branch2c[0][0]             \n",
      "__________________________________________________________________________________________________\n",
      "add_14 (Add)                    (None, 5, 7, 2048)   0           bn5b_branch2c[0][0]              \n",
      "                                                                 activation_42[0][0]              \n",
      "__________________________________________________________________________________________________\n",
      "activation_45 (Activation)      (None, 5, 7, 2048)   0           add_14[0][0]                     \n",
      "__________________________________________________________________________________________________\n",
      "res5c_branch2a (Conv2D)         (None, 5, 7, 512)    1049088     activation_45[0][0]              \n",
      "__________________________________________________________________________________________________\n",
      "bn5c_branch2a (BatchNormalizati (None, 5, 7, 512)    2048        res5c_branch2a[0][0]             \n",
      "__________________________________________________________________________________________________\n",
      "activation_46 (Activation)      (None, 5, 7, 512)    0           bn5c_branch2a[0][0]              \n",
      "__________________________________________________________________________________________________\n",
      "res5c_branch2b (Conv2D)         (None, 5, 7, 512)    2359808     activation_46[0][0]              \n",
      "__________________________________________________________________________________________________\n",
      "bn5c_branch2b (BatchNormalizati (None, 5, 7, 512)    2048        res5c_branch2b[0][0]             \n",
      "__________________________________________________________________________________________________\n",
      "activation_47 (Activation)      (None, 5, 7, 512)    0           bn5c_branch2b[0][0]              \n",
      "__________________________________________________________________________________________________\n",
      "res5c_branch2c (Conv2D)         (None, 5, 7, 2048)   1050624     activation_47[0][0]              \n",
      "__________________________________________________________________________________________________\n",
      "bn5c_branch2c (BatchNormalizati (None, 5, 7, 2048)   8192        res5c_branch2c[0][0]             \n",
      "__________________________________________________________________________________________________\n",
      "add_15 (Add)                    (None, 5, 7, 2048)   0           bn5c_branch2c[0][0]              \n",
      "                                                                 activation_45[0][0]              \n",
      "__________________________________________________________________________________________________\n",
      "activation_48 (Activation)      (None, 5, 7, 2048)   0           add_15[0][0]                     \n",
      "__________________________________________________________________________________________________\n",
      "sequential (Sequential)         (None, 5)            9184517     activation_48[0][0]              \n",
      "==================================================================================================\n",
      "Total params: 32,772,229\n",
      "Trainable params: 32,718,725\n",
      "Non-trainable params: 53,504\n",
      "__________________________________________________________________________________________________\n"
     ]
    }
   ],
   "source": [
    "model.summary()"
   ]
  },
  {
   "cell_type": "markdown",
   "metadata": {},
   "source": [
    "#### Important while compiling : Use all the layers from tf.keras.* and use optimizers available in tf.train.* for smooth execution"
   ]
  },
  {
   "cell_type": "code",
   "execution_count": 20,
   "metadata": {
    "colab": {
     "base_uri": "https://localhost:8080/",
     "height": 326
    },
    "colab_type": "code",
    "collapsed": true,
    "id": "Q315htlI-QEz",
    "outputId": "6bd9654e-d745-4342-ccf2-42cbb8d8cc81"
   },
   "outputs": [
    {
     "name": "stdout",
     "output_type": "stream",
     "text": [
      "INFO:tensorflow:Querying Tensorflow master (grpc://10.47.240.170:8470) for TPU system metadata.\n",
      "INFO:tensorflow:Found TPU system:\n",
      "INFO:tensorflow:*** Num TPU Cores: 8\n",
      "INFO:tensorflow:*** Num TPU Workers: 1\n",
      "INFO:tensorflow:*** Num TPU Cores Per Worker: 8\n",
      "INFO:tensorflow:*** Available Device: _DeviceAttributes(/job:worker/replica:0/task:0/device:CPU:0, CPU, -1, 36414899604973840)\n",
      "INFO:tensorflow:*** Available Device: _DeviceAttributes(/job:worker/replica:0/task:0/device:XLA_CPU:0, XLA_CPU, 17179869184, 8938243895504203225)\n",
      "INFO:tensorflow:*** Available Device: _DeviceAttributes(/job:worker/replica:0/task:0/device:TPU:0, TPU, 17179869184, 9072353448309015249)\n",
      "INFO:tensorflow:*** Available Device: _DeviceAttributes(/job:worker/replica:0/task:0/device:TPU:1, TPU, 17179869184, 1991917103274817748)\n",
      "INFO:tensorflow:*** Available Device: _DeviceAttributes(/job:worker/replica:0/task:0/device:TPU:2, TPU, 17179869184, 15723003652646883014)\n",
      "INFO:tensorflow:*** Available Device: _DeviceAttributes(/job:worker/replica:0/task:0/device:TPU:3, TPU, 17179869184, 18055157981332150118)\n",
      "INFO:tensorflow:*** Available Device: _DeviceAttributes(/job:worker/replica:0/task:0/device:TPU:4, TPU, 17179869184, 3914042441316065019)\n",
      "INFO:tensorflow:*** Available Device: _DeviceAttributes(/job:worker/replica:0/task:0/device:TPU:5, TPU, 17179869184, 15437856637684048000)\n",
      "INFO:tensorflow:*** Available Device: _DeviceAttributes(/job:worker/replica:0/task:0/device:TPU:6, TPU, 17179869184, 2571026266541513725)\n",
      "INFO:tensorflow:*** Available Device: _DeviceAttributes(/job:worker/replica:0/task:0/device:TPU:7, TPU, 17179869184, 15381465714939582913)\n",
      "INFO:tensorflow:*** Available Device: _DeviceAttributes(/job:worker/replica:0/task:0/device:TPU_SYSTEM:0, TPU_SYSTEM, 17179869184, 13505808726434573735)\n",
      "WARNING:tensorflow:tpu_model (from tensorflow.contrib.tpu.python.tpu.keras_support) is experimental and may change or be removed at any time, and without warning.\n"
     ]
    }
   ],
   "source": [
    "tpu_model = tf.contrib.tpu.keras_to_tpu_model(\n",
    "    model,\n",
    "    strategy=tf.contrib.tpu.TPUDistributionStrategy(\n",
    "        tf.contrib.cluster_resolver.TPUClusterResolver(tpu='grpc://' + os.environ['COLAB_TPU_ADDR'])\n",
    "    )\n",
    ")\n",
    "tpu_model.compile(\n",
    "    optimizer=tf.train.AdamOptimizer(learning_rate=0.001 ),\n",
    "    loss=tf.keras.losses.categorical_crossentropy,\n",
    "    metrics=['accuracy']\n",
    ")"
   ]
  },
  {
   "cell_type": "markdown",
   "metadata": {},
   "source": [
    "### Important while deciding batch size while using TPU model : Use bath sizes that are completely divisible by the no. of images in the folder or Colab will always throw up error relating image sizes."
   ]
  },
  {
   "cell_type": "code",
   "execution_count": 0,
   "metadata": {
    "colab": {
     "base_uri": "https://localhost:8080/",
     "height": 153
    },
    "colab_type": "code",
    "id": "Bydya4ZM-oS3",
    "outputId": "afd20960-95df-4216-aea7-093a25a7b5e8",
    "scrolled": true
   },
   "outputs": [
    {
     "name": "stdout",
     "output_type": "stream",
     "text": [
      "Epoch 1/150\n",
      "5/5 [==============================] - 12s 2s/step - loss: 0.8274 - acc: 0.8183\n",
      "17/17 [==============================] - 81s 5s/step - loss: 0.0535 - acc: 0.9830 - val_loss: 0.8274 - val_acc: 0.8183\n",
      "Epoch 2/150\n",
      "5/5 [==============================] - 12s 2s/step - loss: 0.5417 - acc: 0.8567\n",
      "17/17 [==============================] - 73s 4s/step - loss: 0.0524 - acc: 0.9833 - val_loss: 0.5417 - val_acc: 0.8567\n",
      "Epoch 3/150\n",
      " 9/17 [==============>...............] - ETA: 26s - loss: 0.0456 - acc: 0.9841"
     ]
    }
   ],
   "source": [
    "STEP_SIZE_TRAIN=train_generator.n//train_generator.batch_size\n",
    "STEP_SIZE_VALID=valid_generator.n//valid_generator.batch_size\n",
    "STEP_SIZE_TEST=test_generator.n//test_generator.batch_size\n",
    "tpu_model.fit_generator(generator=train_generator,\n",
    "                    steps_per_epoch=STEP_SIZE_TRAIN,\n",
    "                    validation_data=valid_generator,\n",
    "                    validation_steps=STEP_SIZE_VALID,\n",
    "                    epochs=150,\n",
    "                    shuffle = True\n",
    ")"
   ]
  },
  {
   "cell_type": "markdown",
   "metadata": {},
   "source": [
    "### Predicting using tpu_model"
   ]
  },
  {
   "cell_type": "code",
   "execution_count": 0,
   "metadata": {
    "colab": {},
    "colab_type": "code",
    "id": "OvWTZyM-Dn_c"
   },
   "outputs": [],
   "source": [
    "test_generator.reset()\n",
    "pred=model.predict_generator(test_generator,\n",
    "steps=STEP_SIZE_TEST,\n",
    "verbose=1)"
   ]
  },
  {
   "cell_type": "code",
   "execution_count": 44,
   "metadata": {
    "colab": {
     "base_uri": "https://localhost:8080/",
     "height": 187
    },
    "colab_type": "code",
    "id": "U4Upg2SKoEVN",
    "outputId": "029d83ad-d69e-4ab4-c8cf-2d62a7524ec8"
   },
   "outputs": [
    {
     "data": {
      "text/plain": [
       "array([[1.3973824e-05, 8.2707138e-06, 1.3838460e-05, 9.9994981e-01,\n",
       "        1.4086795e-05],\n",
       "       [1.4101021e-12, 4.5757998e-12, 1.2639508e-13, 1.0000000e+00,\n",
       "        1.4228664e-10],\n",
       "       [1.0780187e-06, 5.7805340e-07, 8.5237673e-07, 9.9999285e-01,\n",
       "        4.6839709e-06],\n",
       "       [6.0605016e-06, 9.9999380e-01, 3.4338570e-09, 1.5803955e-08,\n",
       "        6.2564837e-08],\n",
       "       [1.2091868e-05, 1.7196139e-06, 1.0084345e-04, 9.9970281e-01,\n",
       "        1.8261439e-04]], dtype=float32)"
      ]
     },
     "execution_count": 44,
     "metadata": {
      "tags": []
     },
     "output_type": "execute_result"
    }
   ],
   "source": [
    "pred[:5]"
   ]
  },
  {
   "cell_type": "code",
   "execution_count": 0,
   "metadata": {
    "colab": {},
    "colab_type": "code",
    "id": "Ia066mmOqW0t"
   },
   "outputs": [],
   "source": [
    "predicted_class_indices=np.argmax(pred,axis=1)"
   ]
  },
  {
   "cell_type": "code",
   "execution_count": 46,
   "metadata": {
    "colab": {
     "base_uri": "https://localhost:8080/",
     "height": 34
    },
    "colab_type": "code",
    "id": "hhh_mbgnqW9M",
    "outputId": "fe57e335-b975-4e42-ec70-494ff5303226"
   },
   "outputs": [
    {
     "data": {
      "text/plain": [
       "array([3, 1, 1, 3])"
      ]
     },
     "execution_count": 46,
     "metadata": {
      "tags": []
     },
     "output_type": "execute_result"
    }
   ],
   "source": [
    "predicted_class_indices[66:70]"
   ]
  },
  {
   "cell_type": "code",
   "execution_count": 0,
   "metadata": {
    "colab": {},
    "colab_type": "code",
    "id": "tQBEtrGtqW_d"
   },
   "outputs": [],
   "source": [
    "labels = (train_generator.class_indices)\n",
    "labels = dict((v,k) for k,v in labels.items())\n",
    "predictions = [labels[k] for k in predicted_class_indices]"
   ]
  },
  {
   "cell_type": "code",
   "execution_count": 0,
   "metadata": {
    "colab": {},
    "colab_type": "code",
    "id": "kEOfY_1DoEXy"
   },
   "outputs": [],
   "source": [
    "sample_sub = pd.read_csv('/content/drive/My Drive/Game of DL/sample_submission.csv')"
   ]
  },
  {
   "cell_type": "code",
   "execution_count": 0,
   "metadata": {
    "colab": {},
    "colab_type": "code",
    "id": "aywUSvdzoEZp"
   },
   "outputs": [],
   "source": [
    "sample_sub['category'] = predictions"
   ]
  },
  {
   "cell_type": "code",
   "execution_count": 0,
   "metadata": {
    "colab": {},
    "colab_type": "code",
    "id": "Z-_rWMaJrRxb"
   },
   "outputs": [],
   "source": [
    "#sample_sub.head()\n",
    "sample_sub.to_csv('/content/drive/My Drive/Game of DL/submission12.csv',index=False)"
   ]
  },
  {
   "cell_type": "code",
   "execution_count": 0,
   "metadata": {
    "colab": {},
    "colab_type": "code",
    "id": "AY-kILjt8skH"
   },
   "outputs": [],
   "source": []
  }
 ],
 "metadata": {
  "accelerator": "TPU",
  "colab": {
   "collapsed_sections": [],
   "name": "Analytics_vidhya_ship_classifier_game_of_dl.ipynb",
   "provenance": [],
   "version": "0.3.2"
  },
  "kernelspec": {
   "display_name": "Python 3",
   "language": "python",
   "name": "python3"
  },
  "language_info": {
   "codemirror_mode": {
    "name": "ipython",
    "version": 3
   },
   "file_extension": ".py",
   "mimetype": "text/x-python",
   "name": "python",
   "nbconvert_exporter": "python",
   "pygments_lexer": "ipython3",
   "version": "3.6.5"
  }
 },
 "nbformat": 4,
 "nbformat_minor": 1
}
